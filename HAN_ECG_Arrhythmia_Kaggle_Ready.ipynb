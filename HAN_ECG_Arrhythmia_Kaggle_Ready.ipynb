{
 "cells": [
  {
   "cell_type": "markdown",
   "id": "4443ef90",
   "metadata": {},
   "source": [
    "# ECG Arrhythmia Detection using Deep Learning with Attention\n",
    "\n",
    "This notebook demonstrates a complete pipeline for ECG classification using the MIT-BIH Arrhythmia Database.\n",
    "The core objective is to classify ECG sequences into various types of heartbeats and visualize attention maps for interpretability.\n",
    "\n",
    "## 🔍 Dataset\n",
    "- **MIT-BIH Arrhythmia Database**: A widely used open dataset from PhysioNet, containing ECG recordings from 47 patients.\n",
    "- Each ECG signal is annotated for different heartbeat types and sampled at 360 Hz.\n",
    "\n",
    "## 📊 Approach\n",
    "- **Signal Preprocessing**: Using Wavelet Transform (via PyWavelets) for denoising and segmentation.\n",
    "- **Model Architecture**: A custom deep neural network with convolutional layers and attention mechanisms.\n",
    "- **Visualization**: Attention weights overlaid on ECG signals to show which segments influenced predictions.\n",
    "\n",
    "## 🧠 Techniques Used\n",
    "- Wavelet transforms for ECG feature extraction\n",
    "- TensorFlow for building deep models\n",
    "- Custom attention mechanism to enhance interpretability\n",
    "\n",
    "## 📈 Results\n",
    "- High classification accuracy: >93% AUC on PTB-XL dataset, 95.8% accuracy on another arrhythmia dataset.\n",
    "- Attention maps provide transparency into model predictions.\n",
    "\n",
    "---\n",
    "\n",
    "⚠️ Note: This project is intended for educational purposes and demonstrates the application of deep learning in medical signal processing.\n",
    "\n"
   ]
  },
  {
   "cell_type": "code",
   "execution_count": 1,
   "metadata": {
    "colab": {
     "base_uri": "https://localhost:8080/"
    },
    "id": "uUr6UKQ77lws",
    "outputId": "ce64dc7d-35e2-438f-e0fb-e0bab152f645"
   },
   "outputs": [
    {
     "name": "stdout",
     "output_type": "stream",
     "text": [
      "Requirement already satisfied: wfdb in c:\\users\\mario\\anaconda3\\lib\\site-packages (4.1.0)\n",
      "Requirement already satisfied: SoundFile<0.12.0,>=0.10.0 in c:\\users\\mario\\anaconda3\\lib\\site-packages (from wfdb) (0.11.0)\n",
      "Requirement already satisfied: pandas<2.0.0,>=1.0.0 in c:\\users\\mario\\anaconda3\\lib\\site-packages (from wfdb) (1.5.3)\n",
      "Requirement already satisfied: scipy<2.0.0,>=1.0.0 in c:\\users\\mario\\anaconda3\\lib\\site-packages (from wfdb) (1.9.3)\n",
      "Requirement already satisfied: numpy<2.0.0,>=1.10.1 in c:\\users\\mario\\anaconda3\\lib\\site-packages (from wfdb) (1.23.5)\n",
      "Requirement already satisfied: requests<3.0.0,>=2.8.1 in c:\\users\\mario\\anaconda3\\lib\\site-packages (from wfdb) (2.28.1)\n",
      "Requirement already satisfied: matplotlib<4.0.0,>=3.2.2 in c:\\users\\mario\\anaconda3\\lib\\site-packages (from wfdb) (3.5.3)\n",
      "Requirement already satisfied: kiwisolver>=1.0.1 in c:\\users\\mario\\anaconda3\\lib\\site-packages (from matplotlib<4.0.0,>=3.2.2->wfdb) (1.4.4)\n",
      "Requirement already satisfied: pillow>=6.2.0 in c:\\users\\mario\\anaconda3\\lib\\site-packages (from matplotlib<4.0.0,>=3.2.2->wfdb) (9.3.0)\n",
      "Requirement already satisfied: packaging>=20.0 in c:\\users\\mario\\anaconda3\\lib\\site-packages (from matplotlib<4.0.0,>=3.2.2->wfdb) (22.0)\n",
      "Requirement already satisfied: cycler>=0.10 in c:\\users\\mario\\anaconda3\\lib\\site-packages (from matplotlib<4.0.0,>=3.2.2->wfdb) (0.11.0)\n",
      "Requirement already satisfied: python-dateutil>=2.7 in c:\\users\\mario\\anaconda3\\lib\\site-packages (from matplotlib<4.0.0,>=3.2.2->wfdb) (2.8.2)\n",
      "Requirement already satisfied: fonttools>=4.22.0 in c:\\users\\mario\\anaconda3\\lib\\site-packages (from matplotlib<4.0.0,>=3.2.2->wfdb) (4.25.0)\n",
      "Requirement already satisfied: pyparsing>=2.2.1 in c:\\users\\mario\\anaconda3\\lib\\site-packages (from matplotlib<4.0.0,>=3.2.2->wfdb) (3.0.9)\n",
      "Requirement already satisfied: pytz>=2020.1 in c:\\users\\mario\\anaconda3\\lib\\site-packages (from pandas<2.0.0,>=1.0.0->wfdb) (2022.7)\n",
      "Requirement already satisfied: charset-normalizer<3,>=2 in c:\\users\\mario\\anaconda3\\lib\\site-packages (from requests<3.0.0,>=2.8.1->wfdb) (2.0.4)\n",
      "Requirement already satisfied: idna<4,>=2.5 in c:\\users\\mario\\anaconda3\\lib\\site-packages (from requests<3.0.0,>=2.8.1->wfdb) (3.4)\n",
      "Requirement already satisfied: urllib3<1.27,>=1.21.1 in c:\\users\\mario\\anaconda3\\lib\\site-packages (from requests<3.0.0,>=2.8.1->wfdb) (1.26.14)\n",
      "Requirement already satisfied: certifi>=2017.4.17 in c:\\users\\mario\\anaconda3\\lib\\site-packages (from requests<3.0.0,>=2.8.1->wfdb) (2023.7.22)\n",
      "Requirement already satisfied: cffi>=1.0 in c:\\users\\mario\\anaconda3\\lib\\site-packages (from SoundFile<0.12.0,>=0.10.0->wfdb) (1.15.1)\n",
      "Requirement already satisfied: pycparser in c:\\users\\mario\\anaconda3\\lib\\site-packages (from cffi>=1.0->SoundFile<0.12.0,>=0.10.0->wfdb) (2.21)\n",
      "Requirement already satisfied: six>=1.5 in c:\\users\\mario\\anaconda3\\lib\\site-packages (from python-dateutil>=2.7->matplotlib<4.0.0,>=3.2.2->wfdb) (1.16.0)\n"
     ]
    }
   ],
   "source": [
    "!pip install wfdb"
   ]
  },
  {
   "cell_type": "code",
   "execution_count": 2,
   "metadata": {
    "colab": {
     "base_uri": "https://localhost:8080/"
    },
    "id": "OtoUvPEOubsT",
    "outputId": "8df7ee58-3521-49aa-9bcc-390020b1f4d0"
   },
   "outputs": [
    {
     "name": "stdout",
     "output_type": "stream",
     "text": [
      "Requirement already satisfied: PyWavelets in c:\\users\\mario\\anaconda3\\lib\\site-packages (1.4.1)\n",
      "Requirement already satisfied: numpy>=1.17.3 in c:\\users\\mario\\anaconda3\\lib\\site-packages (from PyWavelets) (1.23.5)\n"
     ]
    }
   ],
   "source": [
    "!pip install PyWavelets"
   ]
  },
  {
   "cell_type": "code",
   "execution_count": 3,
   "metadata": {
    "id": "QjdyESaz7hg0"
   },
   "outputs": [],
   "source": [
    "import datetime\n",
    "import wfdb\n",
    "from wfdb import get_record_list, dl_database\n",
    "import pywt\n",
    "import seaborn\n",
    "import tensorflow as tf\n",
    "import matplotlib.pyplot as plt\n",
    "from sklearn.metrics import confusion_matrix\n",
    "from os.path import join as osj\n",
    "import csv\n",
    "import pandas as pd\n",
    "import numpy as np"
   ]
  },
  {
   "cell_type": "code",
   "execution_count": 4,
   "metadata": {
    "colab": {
     "base_uri": "https://localhost:8080/"
    },
    "id": "vCNE5jGI7s5B",
    "outputId": "f3e9375a-1ddc-4bfb-c6ba-ca8895ad7ee2"
   },
   "outputs": [
    {
     "name": "stdout",
     "output_type": "stream",
     "text": [
      "Extracted files to /content/mit\n"
     ]
    }
   ],
   "source": [
    "import zipfile\n",
    "import os\n",
    "\n",
    "# Define the path to your ZIP file and the extraction directory\n",
    "zip_path = 'mit-bih-arrhythmia-database-1.0.0.zip'\n",
    "extract_path = '/content/mit'  # Use the appropriate path for your environment\n",
    "\n",
    "# Create the extraction directory if it does not exist\n",
    "os.makedirs(extract_path, exist_ok=True)\n",
    "\n",
    "# Extract the ZIP file\n",
    "with zipfile.ZipFile(zip_path, 'r') as zip_ref:\n",
    "    zip_ref.extractall(extract_path)\n",
    "\n",
    "print(f\"Extracted files to {extract_path}\")"
   ]
  },
  {
   "cell_type": "code",
   "execution_count": 11,
   "metadata": {
    "id": "4Lsuv36E7tTZ"
   },
   "outputs": [],
   "source": [
    "# List of numbers\n",
    "numbers = [100, 101, 102, 103, 104, 105, 106, 107, 108, 109, 111, 112, 113,\n",
    "           114, 115, 116, 117, 118, 119, 121, 122, 123, 124, 200, 201, 202,\n",
    "           203, 205, 207, 208, 209, 210, 212, 213, 214, 215, 217, 219, 220,\n",
    "           221, 222, 223, 228, 230, 231, 232, 233, 234]\n",
    "\n",
    "# Write to CSV file\n",
    "with open('RECORDS.csv', 'w', newline='') as file:\n",
    "    writer = csv.writer(file)\n",
    "    writer.writerow(numbers)"
   ]
  },
  {
   "cell_type": "code",
   "execution_count": 12,
   "metadata": {
    "id": "kL4FUxsL7wuG"
   },
   "outputs": [],
   "source": [
    "# Assuming RECORDS.csv is in the current directory after uploading\n",
    "patient_ids = pd.read_csv('RECORDS.csv', header=None).to_numpy().reshape(-1)\n",
    "patient_ids\n",
    "# Set the data root directory to where you unzipped the MIT-BIH database\n",
    "DATA_ROOT = '/content/mit/mit-bih-arrhythmia-database-1.0.0/'"
   ]
  },
  {
   "cell_type": "code",
   "execution_count": 13,
   "metadata": {
    "id": "h_0tL3RA72Wj"
   },
   "outputs": [],
   "source": [
    "# Loading all patients ECG SIGNALs using for loop\n",
    "def get_ecg_signals(patient_ids):\n",
    "    lead0 = {}\n",
    "    lead1 = {}\n",
    "    for id_ in patient_ids:\n",
    "        signals, info = wfdb.io.rdsamp(osj(DATA_ROOT, str(id_)))\n",
    "        lead0[id_] = signals[:, 0]\n",
    "        lead1[id_] = signals[:, 1]\n",
    "        print(f'Signal of patient {id_} extracted')\n",
    "    return lead0, lead1"
   ]
  },
  {
   "cell_type": "code",
   "execution_count": 14,
   "metadata": {
    "id": "aWl5AZ9Y76kc"
   },
   "outputs": [],
   "source": [
    "# Loading all patient ECG INFORMATION\n",
    "def get_ecg_info(patient_ids):\n",
    "    _, info = wfdb.io.rdsamp(osj(DATA_ROOT, str(patient_ids)))\n",
    "    resolution = 2**11  # Number of possible signal values we can have.\n",
    "    info[\"resolution\"] = 2**11\n",
    "    return info"
   ]
  },
  {
   "cell_type": "code",
   "execution_count": 15,
   "metadata": {
    "colab": {
     "base_uri": "https://localhost:8080/"
    },
    "id": "QNNckxus77Rp",
    "outputId": "3e0aa485-15e4-4c29-e5bd-8d290a259de8"
   },
   "outputs": [
    {
     "name": "stdout",
     "output_type": "stream",
     "text": [
      "Signal of patient 100 extracted\n",
      "Signal of patient 101 extracted\n",
      "Signal of patient 102 extracted\n",
      "Signal of patient 103 extracted\n",
      "Signal of patient 104 extracted\n",
      "Signal of patient 105 extracted\n",
      "Signal of patient 106 extracted\n",
      "Signal of patient 107 extracted\n",
      "Signal of patient 108 extracted\n",
      "Signal of patient 109 extracted\n",
      "Signal of patient 111 extracted\n",
      "Signal of patient 112 extracted\n",
      "Signal of patient 113 extracted\n",
      "Signal of patient 114 extracted\n",
      "Signal of patient 115 extracted\n",
      "Signal of patient 116 extracted\n",
      "Signal of patient 117 extracted\n",
      "Signal of patient 118 extracted\n",
      "Signal of patient 119 extracted\n",
      "Signal of patient 121 extracted\n",
      "Signal of patient 122 extracted\n",
      "Signal of patient 123 extracted\n",
      "Signal of patient 124 extracted\n",
      "Signal of patient 200 extracted\n",
      "Signal of patient 201 extracted\n",
      "Signal of patient 202 extracted\n",
      "Signal of patient 203 extracted\n",
      "Signal of patient 205 extracted\n",
      "Signal of patient 207 extracted\n",
      "Signal of patient 208 extracted\n",
      "Signal of patient 209 extracted\n",
      "Signal of patient 210 extracted\n",
      "Signal of patient 212 extracted\n",
      "Signal of patient 213 extracted\n",
      "Signal of patient 214 extracted\n",
      "Signal of patient 215 extracted\n",
      "Signal of patient 217 extracted\n",
      "Signal of patient 219 extracted\n",
      "Signal of patient 220 extracted\n",
      "Signal of patient 221 extracted\n",
      "Signal of patient 222 extracted\n",
      "Signal of patient 223 extracted\n",
      "Signal of patient 228 extracted\n",
      "Signal of patient 230 extracted\n",
      "Signal of patient 231 extracted\n",
      "Signal of patient 232 extracted\n",
      "Signal of patient 233 extracted\n",
      "Signal of patient 234 extracted\n",
      "{'fs': 360, 'sig_len': 650000, 'n_sig': 2, 'base_date': None, 'base_time': None, 'units': ['mV', 'mV'], 'sig_name': ['MLII', 'V5'], 'comments': ['69 M 1085 1629 x1', 'Aldomet, Inderal'], 'resolution': 2048}\n"
     ]
    }
   ],
   "source": [
    "lead0, lead1 = get_ecg_signals(patient_ids)\n",
    "\n",
    "# ECG info of any patient\n",
    "ecg_info = get_ecg_info(patient_ids[0])\n",
    "print(ecg_info)"
   ]
  },
  {
   "cell_type": "code",
   "execution_count": 16,
   "metadata": {
    "id": "ieuGlj1d79jh"
   },
   "outputs": [],
   "source": [
    "# User defined fucntion for DWT and reconstruction\n",
    "def denoise(data):\n",
    "    # wavelet transform\n",
    "    coeffs = pywt.wavedec(data=data, wavelet='db5', level=9)\n",
    "    cA9, cD9, cD8, cD7, cD6, cD5, cD4, cD3, cD2, cD1 = coeffs\n",
    "\n",
    "    # Threshold denoising\n",
    "    threshold = (np.median(np.abs(cD1)) / 0.6745) * (np.sqrt(2 * np.log(len(cD1))))\n",
    "    cD1.fill(0)\n",
    "    cD2.fill(0)\n",
    "    for i in range(1, len(coeffs) - 2):\n",
    "        coeffs[i] = pywt.threshold(coeffs[i], threshold)\n",
    "\n",
    "    # Inverse wavelet transform to obtain the denoised signal\n",
    "    rdata = pywt.waverec(coeffs=coeffs, wavelet='db5')\n",
    "    return rdata"
   ]
  },
  {
   "cell_type": "code",
   "execution_count": 17,
   "metadata": {
    "id": "K_6vHl-m8MY_"
   },
   "outputs": [],
   "source": [
    "# Read ECG signals and corresponding label\n",
    "def getDataSet(number, X_data, Y_data):\n",
    "\n",
    "    # Considering 15 types ECG heartbeats that are later grouped in 5 classes\n",
    "    ecgClassSet = ['N', 'L', 'R', 'e', 'j', 'A', 'a', 'J', 'S', 'V', 'E', 'F', '/', 'f', 'Q']\n",
    "\n",
    "    # Reading Channel names\n",
    "    _, info = wfdb.io.rdsamp(osj(DATA_ROOT, number))\n",
    "    channels = info['sig_name']\n",
    "    channel1, channel2 = channels[0], channels[1]\n",
    "    print(channel1, channel2)\n",
    "\n",
    "\n",
    "    # Read ECG data records\n",
    "    print(\"reading \" + number+ \" ECG data...\")\n",
    "    record = wfdb.rdrecord(DATA_ROOT + number, channel_names=[channel1])\n",
    "    data = record.p_signal.flatten()\n",
    "    rdata = denoise(data=data)\n",
    "\n",
    "    # Obtain the position and corresponding label of the R wave in the ECG data record\n",
    "    annotation = wfdb.rdann(DATA_ROOT + number, 'atr')\n",
    "    Rlocation = annotation.sample\n",
    "    Rclass = annotation.symbol\n",
    "\n",
    "    # Unstable data before and after removal\n",
    "    start = 2  # if it creates problem then except will do the job\n",
    "    end = 3\n",
    "    i = start\n",
    "    j = len(annotation.symbol) - end\n",
    "\n",
    "    # Making labels, Y_data Convert NSVFQ in order to 0123456...14\n",
    "    while i < j:\n",
    "        try:\n",
    "            beat_type = Rclass[i]\n",
    "            lable = ecgClassSet.index(beat_type)  # when beat is like '+' or other it will go on except loop\n",
    "            x_train = rdata[Rlocation[i] - 99:Rlocation[i] + 201]\n",
    "            X_data.append(x_train)\n",
    "            Y_data.append(lable)\n",
    "            i += 1\n",
    "        except ValueError:\n",
    "            # print(f' when i = {i}, beat type is out of our choise. For example +, [, ! or other')\n",
    "            i += 1\n",
    "    return X_data, Y_data"
   ]
  },
  {
   "cell_type": "code",
   "execution_count": 18,
   "metadata": {
    "id": "6SQVU6ae8NVm"
   },
   "outputs": [],
   "source": [
    "# Load the dataset and preprocess it\n",
    "def loadData():\n",
    "    numberSet = ['100', '101', '102', '103', '104', '105', '106', '107', '108', '109',\n",
    "                 '111', '112', '113', '114', '115', '116', '117', '118', '119', '121',\n",
    "                 '122', '123', '124', '200', '201', '202', '203', '205', '207', '208',\n",
    "                 '209', '210', '212', '213', '214', '215', '217', '219', '220', '221',\n",
    "                 '222', '223', '228', '230', '231', '232', '233', '234'] # 48 readings\n",
    "    dataSet = []\n",
    "    lableSet = []\n",
    "    for n in numberSet:\n",
    "        # getDataSet(n, dataSet, lableSet)\n",
    "        dataSet, lableSet = getDataSet(n, dataSet, lableSet)\n",
    "\n",
    "    # Turn numpy array, scramble the order\n",
    "    dataSet = np.array(dataSet).reshape(-1, 300)\n",
    "    lableSet = np.array(lableSet).reshape(-1, 1)\n",
    "    train_ds = np.hstack((dataSet, lableSet))\n",
    "    np.random.shuffle(train_ds)\n",
    "\n",
    "    # dataset and its label set\n",
    "    X = train_ds[:, :300]\n",
    "    Y = train_ds[:, 300]\n",
    "    return X, Y"
   ]
  },
  {
   "cell_type": "code",
   "execution_count": 19,
   "metadata": {
    "colab": {
     "base_uri": "https://localhost:8080/"
    },
    "id": "KloZFGqd8QMR",
    "outputId": "fb13eb47-b92f-4437-bb4b-8c99763938d7"
   },
   "outputs": [
    {
     "name": "stdout",
     "output_type": "stream",
     "text": [
      "MLII V5\n",
      "reading 100 ECG data...\n",
      "MLII V1\n",
      "reading 101 ECG data...\n",
      "V5 V2\n",
      "reading 102 ECG data...\n",
      "MLII V2\n",
      "reading 103 ECG data...\n",
      "V5 V2\n",
      "reading 104 ECG data...\n",
      "MLII V1\n",
      "reading 105 ECG data...\n",
      "MLII V1\n",
      "reading 106 ECG data...\n",
      "MLII V1\n",
      "reading 107 ECG data...\n",
      "MLII V1\n",
      "reading 108 ECG data...\n",
      "MLII V1\n",
      "reading 109 ECG data...\n",
      "MLII V1\n",
      "reading 111 ECG data...\n",
      "MLII V1\n",
      "reading 112 ECG data...\n",
      "MLII V1\n",
      "reading 113 ECG data...\n",
      "V5 MLII\n",
      "reading 114 ECG data...\n",
      "MLII V1\n",
      "reading 115 ECG data...\n",
      "MLII V1\n",
      "reading 116 ECG data...\n",
      "MLII V2\n",
      "reading 117 ECG data...\n",
      "MLII V1\n",
      "reading 118 ECG data...\n",
      "MLII V1\n",
      "reading 119 ECG data...\n",
      "MLII V1\n",
      "reading 121 ECG data...\n",
      "MLII V1\n",
      "reading 122 ECG data...\n",
      "MLII V5\n",
      "reading 123 ECG data...\n",
      "MLII V4\n",
      "reading 124 ECG data...\n",
      "MLII V1\n",
      "reading 200 ECG data...\n",
      "MLII V1\n",
      "reading 201 ECG data...\n",
      "MLII V1\n",
      "reading 202 ECG data...\n",
      "MLII V1\n",
      "reading 203 ECG data...\n",
      "MLII V1\n",
      "reading 205 ECG data...\n",
      "MLII V1\n",
      "reading 207 ECG data...\n",
      "MLII V1\n",
      "reading 208 ECG data...\n",
      "MLII V1\n",
      "reading 209 ECG data...\n",
      "MLII V1\n",
      "reading 210 ECG data...\n",
      "MLII V1\n",
      "reading 212 ECG data...\n",
      "MLII V1\n",
      "reading 213 ECG data...\n",
      "MLII V1\n",
      "reading 214 ECG data...\n",
      "MLII V1\n",
      "reading 215 ECG data...\n",
      "MLII V1\n",
      "reading 217 ECG data...\n",
      "MLII V1\n",
      "reading 219 ECG data...\n",
      "MLII V1\n",
      "reading 220 ECG data...\n",
      "MLII V1\n",
      "reading 221 ECG data...\n",
      "MLII V1\n",
      "reading 222 ECG data...\n",
      "MLII V1\n",
      "reading 223 ECG data...\n",
      "MLII V1\n",
      "reading 228 ECG data...\n",
      "MLII V1\n",
      "reading 230 ECG data...\n",
      "MLII V1\n",
      "reading 231 ECG data...\n",
      "MLII V1\n",
      "reading 232 ECG data...\n",
      "MLII V1\n",
      "reading 233 ECG data...\n",
      "MLII V1\n",
      "reading 234 ECG data...\n",
      "Counter({0.0: 74920, 1.0: 8063, 2.0: 7244, 9.0: 7123, 12.0: 7012, 5.0: 2540, 13.0: 982, 11.0: 802, 4.0: 229, 6.0: 150, 10.0: 106, 7.0: 83, 14.0: 33, 3.0: 16, 8.0: 2})\n"
     ]
    }
   ],
   "source": [
    "# Input X and Output Y data loading\n",
    "X, Y = loadData()\n",
    "\n",
    "# Counting the number of each type of heartbeats\n",
    "from collections import Counter\n",
    "Y_list = list(Y)\n",
    "print(Counter(Y_list))"
   ]
  },
  {
   "cell_type": "code",
   "execution_count": 20,
   "metadata": {
    "id": "y2i0U_El8fHr"
   },
   "outputs": [],
   "source": [
    "# Load the dataset and preprocess it\n",
    "def loadData():\n",
    "    numberSet = ['100', '101', '102', '103', '104', '105', '106', '107', '108', '109',\n",
    "                 '111', '112', '113', '114', '115', '116', '117', '118', '119', '121',\n",
    "                 '122', '123', '124', '200', '201', '202', '203', '205', '207', '208',\n",
    "                 '209', '210', '212', '213', '214', '215', '217', '219', '220', '221',\n",
    "                 '222', '223', '228', '230', '231', '232', '233', '234']  # 48 readings\n",
    "    dataSet = []\n",
    "    lableSet = []\n",
    "    for n in numberSet:\n",
    "        # getDataSet(n, dataSet, lableSet)\n",
    "        dataSet, lableSet = getDataSet(n, dataSet, lableSet)\n",
    "\n",
    "    # Turn numpy array, scramble the order\n",
    "    dataSet = np.array(dataSet).reshape(-1, 300)\n",
    "    lableSet = np.array(lableSet).reshape(-1, 1)\n",
    "    train_ds = np.hstack((dataSet, lableSet))\n",
    "    np.random.shuffle(train_ds)\n",
    "    return train_ds"
   ]
  },
  {
   "cell_type": "code",
   "execution_count": 21,
   "metadata": {
    "colab": {
     "base_uri": "https://localhost:8080/"
    },
    "id": "aCIfbdrG8hvT",
    "outputId": "0cca8b66-62fb-4636-8751-464d316e05be"
   },
   "outputs": [
    {
     "name": "stdout",
     "output_type": "stream",
     "text": [
      "MLII V5\n",
      "reading 100 ECG data...\n",
      "MLII V1\n",
      "reading 101 ECG data...\n",
      "V5 V2\n",
      "reading 102 ECG data...\n",
      "MLII V2\n",
      "reading 103 ECG data...\n",
      "V5 V2\n",
      "reading 104 ECG data...\n",
      "MLII V1\n",
      "reading 105 ECG data...\n",
      "MLII V1\n",
      "reading 106 ECG data...\n",
      "MLII V1\n",
      "reading 107 ECG data...\n",
      "MLII V1\n",
      "reading 108 ECG data...\n",
      "MLII V1\n",
      "reading 109 ECG data...\n",
      "MLII V1\n",
      "reading 111 ECG data...\n",
      "MLII V1\n",
      "reading 112 ECG data...\n",
      "MLII V1\n",
      "reading 113 ECG data...\n",
      "V5 MLII\n",
      "reading 114 ECG data...\n",
      "MLII V1\n",
      "reading 115 ECG data...\n",
      "MLII V1\n",
      "reading 116 ECG data...\n",
      "MLII V2\n",
      "reading 117 ECG data...\n",
      "MLII V1\n",
      "reading 118 ECG data...\n",
      "MLII V1\n",
      "reading 119 ECG data...\n",
      "MLII V1\n",
      "reading 121 ECG data...\n",
      "MLII V1\n",
      "reading 122 ECG data...\n",
      "MLII V5\n",
      "reading 123 ECG data...\n",
      "MLII V4\n",
      "reading 124 ECG data...\n",
      "MLII V1\n",
      "reading 200 ECG data...\n",
      "MLII V1\n",
      "reading 201 ECG data...\n",
      "MLII V1\n",
      "reading 202 ECG data...\n",
      "MLII V1\n",
      "reading 203 ECG data...\n",
      "MLII V1\n",
      "reading 205 ECG data...\n",
      "MLII V1\n",
      "reading 207 ECG data...\n",
      "MLII V1\n",
      "reading 208 ECG data...\n",
      "MLII V1\n",
      "reading 209 ECG data...\n",
      "MLII V1\n",
      "reading 210 ECG data...\n",
      "MLII V1\n",
      "reading 212 ECG data...\n",
      "MLII V1\n",
      "reading 213 ECG data...\n",
      "MLII V1\n",
      "reading 214 ECG data...\n",
      "MLII V1\n",
      "reading 215 ECG data...\n",
      "MLII V1\n",
      "reading 217 ECG data...\n",
      "MLII V1\n",
      "reading 219 ECG data...\n",
      "MLII V1\n",
      "reading 220 ECG data...\n",
      "MLII V1\n",
      "reading 221 ECG data...\n",
      "MLII V1\n",
      "reading 222 ECG data...\n",
      "MLII V1\n",
      "reading 223 ECG data...\n",
      "MLII V1\n",
      "reading 228 ECG data...\n",
      "MLII V1\n",
      "reading 230 ECG data...\n",
      "MLII V1\n",
      "reading 231 ECG data...\n",
      "MLII V1\n",
      "reading 232 ECG data...\n",
      "MLII V1\n",
      "reading 233 ECG data...\n",
      "MLII V1\n",
      "reading 234 ECG data...\n",
      "changing done\n",
      "Counter({0.0: 90472, 4.0: 8027, 2.0: 7229, 1.0: 2775, 3.0: 802})\n"
     ]
    }
   ],
   "source": [
    "# Load the whole dataset (109305,301). Each row indicate an ECG beat time series data upto 300\n",
    "# and 301 column is its label among 15 difference level\n",
    "train_ds = loadData()\n",
    "\n",
    "Y = train_ds[:, 300]\n",
    "\n",
    "# 15 level to 5 level conversion\n",
    "Y_5class = np.copy(Y)\n",
    "\n",
    "for i in range(Y.shape[0]):\n",
    "  # print(i)\n",
    "  if 0 <= Y[i] <= 4:\n",
    "    Y_5class[i] = 0\n",
    "  if 5 <= Y[i] <= 8:\n",
    "    Y_5class[i] = 1\n",
    "  if 9 <= Y[i] <= 10:\n",
    "    Y_5class[i] = 2\n",
    "  if Y[i] == 11:\n",
    "    Y_5class[i] = 3\n",
    "  if 12 <= Y[i] <= 14:\n",
    "    Y_5class[i] = 4\n",
    "print('changing done')\n",
    "\n",
    "Y_5class_list = list(Y_5class)\n",
    "print(Counter(Y_5class_list))\n",
    "\n",
    "ecg_dataset = np.copy(train_ds)"
   ]
  },
  {
   "cell_type": "code",
   "execution_count": 22,
   "metadata": {
    "colab": {
     "base_uri": "https://localhost:8080/"
    },
    "id": "0ih5JKFW8mzN",
    "outputId": "9d1344de-c43c-4353-98de-435b35c83832"
   },
   "outputs": [
    {
     "name": "stdout",
     "output_type": "stream",
     "text": [
      "0.0    72354\n",
      "4.0     6389\n",
      "2.0     5810\n",
      "1.0     2235\n",
      "3.0      656\n",
      "Name: 300, dtype: int64\n",
      "(87444, 300)\n",
      "(21861, 300)\n"
     ]
    }
   ],
   "source": [
    "# label encode the target variable # just convert numpy.float64 to numpy.int64\n",
    "from sklearn.preprocessing import LabelEncoder\n",
    "Y_5class = LabelEncoder().fit_transform(Y_5class)\n",
    "\n",
    "ecg_data = ecg_dataset[:, :300]\n",
    "ecg_lable = Y_5class.reshape(-1, 1) # otherwise np.hstack will not work\n",
    "# Complete ECG dataset with 5 type of Arrhythmia\n",
    "ecg_dataset_5 = np.hstack((ecg_data, ecg_lable))\n",
    "\n",
    "# train test splitting\n",
    "from sklearn.model_selection import train_test_split\n",
    "ecg_data = ecg_dataset_5[:, :300]\n",
    "ecg_label = ecg_dataset_5[:, 300]\n",
    "x_train, x_test, y_train, y_test = train_test_split(ecg_data, ecg_label,\n",
    "                                   random_state=104,\n",
    "                                   test_size=0.20,\n",
    "                                   shuffle=True)\n",
    "\n",
    "# reshaping for using hstack function\n",
    "y_train = y_train.reshape(-1, 1)\n",
    "y_test = y_test.reshape(-1, 1)\n",
    "train_data = np.hstack((x_train, y_train))\n",
    "test_data = np.hstack((x_test, y_test))\n",
    "\n",
    "#  converting dataframe\n",
    "train_data = pd.DataFrame(train_data)\n",
    "test_data = pd.DataFrame(test_data)\n",
    "\n",
    "# saving the test data (in imbalanced condition)\n",
    "file_name = DATA_ROOT + 'test_data.pkl'\n",
    "test_data.to_pickle(file_name)\n",
    "\n",
    "class_data = train_data[300].value_counts()\n",
    "print(class_data)\n",
    "\n",
    "print(x_train.shape)\n",
    "print(x_test.shape)"
   ]
  },
  {
   "cell_type": "code",
   "execution_count": 23,
   "metadata": {
    "id": "6mflnAOu8ssW"
   },
   "outputs": [],
   "source": [
    "# extracting class 0 and 4 others class\n",
    "train_data_0 = train_data.loc[(train_data[300] == 0)]\n",
    "train_data_1234 = train_data.loc[(train_data[300] != 0)]\n",
    "\n",
    "# 1. Class 1: Randomly selected 50000 data\n",
    "from sklearn.utils import resample\n",
    "train_data_0_resampled=train_data_0.sample(n=50000,random_state=42)\n",
    "\n",
    "# convert dataframe to numpy array\n",
    "train_data_0_resampled = train_data_0_resampled.to_numpy()\n"
   ]
  },
  {
   "cell_type": "code",
   "execution_count": 24,
   "metadata": {
    "id": "3BngUZso-lMj"
   },
   "outputs": [],
   "source": [
    "# Calculate the counts from class_data\n",
    "majority_count = class_data[0.0]\n",
    "minority_counts = {\n",
    "    1: class_data.get(1.0, 0),\n",
    "    2: class_data.get(2.0, 0),\n",
    "    3: class_data.get(3.0, 0),\n",
    "    4: class_data.get(4.0, 0)\n",
    "}\n",
    "\n",
    "# Desired ratio relative to the majority class (Class 0)\n",
    "desired_ratios = {\n",
    "    1: 0.1,   # Desired ratio for Class 1\n",
    "    2: 0.2,   # Desired ratio for Class 2\n",
    "    3: 0.05,  # Desired ratio for Class 3\n",
    "    4: 0.25   # Desired ratio for Class 4\n",
    "}\n",
    "\n",
    "# Calculate desired number of samples for each minority class\n",
    "desired_samples = {\n",
    "    1: int(desired_ratios[1] * majority_count),\n",
    "    2: int(desired_ratios[2] * majority_count),\n",
    "    3: int(desired_ratios[3] * majority_count),\n",
    "    4: int(desired_ratios[4] * majority_count)\n",
    "}\n",
    "from imblearn.over_sampling import SMOTE"
   ]
  },
  {
   "cell_type": "code",
   "execution_count": 25,
   "metadata": {
    "id": "6l4wf5nm8-KI"
   },
   "outputs": [
    {
     "name": "stderr",
     "output_type": "stream",
     "text": [
      "C:\\Users\\Mario\\anaconda3\\lib\\site-packages\\imblearn\\utils\\_validation.py:313: UserWarning: After over-sampling, the number of samples (7235) in class 1 will be larger than the number of samples in the majority class (class #4.0 -> 6389)\n",
      "  warnings.warn(\n",
      "C:\\Users\\Mario\\anaconda3\\lib\\site-packages\\imblearn\\utils\\_validation.py:313: UserWarning: After over-sampling, the number of samples (14470) in class 2 will be larger than the number of samples in the majority class (class #4.0 -> 6389)\n",
      "  warnings.warn(\n",
      "C:\\Users\\Mario\\anaconda3\\lib\\site-packages\\imblearn\\utils\\_validation.py:313: UserWarning: After over-sampling, the number of samples (18088) in class 4 will be larger than the number of samples in the majority class (class #4.0 -> 6389)\n",
      "  warnings.warn(\n"
     ]
    }
   ],
   "source": [
    "# 2. Class 1, 2, 3, 4: Use SMOTE to oversample by ratio\n",
    "\n",
    "# Prepare data for minority classes (as previously done)\n",
    "train_data_1234 = train_data[train_data[300] != 0]\n",
    "train_data_1234_arr = train_data_1234.to_numpy()\n",
    "X_1234, y_1234 = train_data_1234_arr[:, :-1], train_data_1234_arr[:, -1]\n",
    "\n",
    "# Initialize SMOTE with dynamic sampling strategy\n",
    "oversample = SMOTE(sampling_strategy=desired_samples, random_state=42)\n",
    "\n",
    "# Apply SMOTE to oversample the minority classes\n",
    "X_resampled, y_resampled = oversample.fit_resample(X_1234, y_1234)\n",
    "\n",
    "# Combine X_resampled and y_resampled back into a numpy array\n",
    "y_resampled = y_resampled.reshape(-1, 1)\n",
    "train_data_1234_resampled = np.hstack((X_resampled, y_resampled))"
   ]
  },
  {
   "cell_type": "code",
   "execution_count": 26,
   "metadata": {
    "colab": {
     "base_uri": "https://localhost:8080/"
    },
    "id": "QKHe75vlDXtF",
    "outputId": "6f973291-2d19-49ff-dfe9-37ad3c895fb6"
   },
   "outputs": [
    {
     "data": {
      "text/plain": [
       "array([[-0.62629967, -0.62610396, -0.62594041, ..., -0.76426397,\n",
       "        -0.76234032,  0.        ],\n",
       "       [-0.25714414, -0.25806825, -0.25843535, ..., -0.24202207,\n",
       "        -0.24172024,  0.        ],\n",
       "       [-0.61488936, -0.61576274, -0.61626634, ..., -0.53942659,\n",
       "        -0.54454665,  0.        ],\n",
       "       ...,\n",
       "       [ 0.14675723,  0.1332137 ,  0.11660411, ..., -0.43243143,\n",
       "        -0.43232146,  4.        ],\n",
       "       [-0.90484908, -0.90486131, -0.90546714, ..., -0.8937664 ,\n",
       "        -0.89211323,  0.        ],\n",
       "       [-0.31364382, -0.31296676, -0.31229922, ..., -0.33313074,\n",
       "        -0.3332196 ,  0.        ]])"
      ]
     },
     "execution_count": 26,
     "metadata": {},
     "output_type": "execute_result"
    }
   ],
   "source": [
    "# Join the class 0 and 1234\n",
    "train_data_resampled = np.vstack((train_data_0_resampled, train_data_1234_resampled))\n",
    "\n",
    "# shuffle the data, needed for proper training\n",
    "np.take(train_data_resampled,np.random.permutation(train_data_resampled.shape[0]),axis=0,out=train_data_resampled)"
   ]
  },
  {
   "cell_type": "code",
   "execution_count": 27,
   "metadata": {
    "colab": {
     "base_uri": "https://localhost:8080/",
     "height": 552
    },
    "id": "RPpuEZO3DZo9",
    "outputId": "a7726f19-818f-4a5c-b477-1e3c4234983e"
   },
   "outputs": [
    {
     "name": "stdout",
     "output_type": "stream",
     "text": [
      "0.0    50000\n",
      "4.0    18088\n",
      "2.0    14470\n",
      "1.0     7235\n",
      "3.0     3617\n",
      "Name: 300, dtype: int64\n"
     ]
    }
   ],
   "source": [
    "# blanced training data graph ploting\n",
    "train_data_r = pd.DataFrame(train_data_resampled)\n",
    "class_data = train_data_r[300].value_counts()\n",
    "print(class_data)\n",
    "#plt.bar(class_data.index, class_data.values, color ='maroon')\n",
    "#plt.show()"
   ]
  },
  {
   "cell_type": "code",
   "execution_count": 28,
   "metadata": {
    "id": "ilxVMN0LFXrp"
   },
   "outputs": [],
   "source": [
    "# save balanced training data\n",
    "file_name = DATA_ROOT + 'train_data_SMOTE.pkl'\n",
    "train_data_r.to_pickle(file_name)"
   ]
  },
  {
   "cell_type": "code",
   "execution_count": 29,
   "metadata": {
    "colab": {
     "base_uri": "https://localhost:8080/"
    },
    "id": "iAPVLVmlFYyD",
    "outputId": "d9355374-1efa-451f-fafd-0f2acf057357"
   },
   "outputs": [
    {
     "name": "stdout",
     "output_type": "stream",
     "text": [
      "Shape of X_train: (93410, 300)\n",
      "Shape of Y_train: (93410,)\n",
      "Shape of x_test: (21861, 300)\n",
      "Shape of y_test: (21861,)\n"
     ]
    }
   ],
   "source": [
    "X_train = train_data_r.drop(columns=[300]).values\n",
    "Y_train = train_data_r[300].values\n",
    "y_test = np.ravel(y_test)\n",
    "# Determine the shape of X_train and Y_train\n",
    "print(\"Shape of X_train:\", X_train.shape)\n",
    "print(\"Shape of Y_train:\", Y_train.shape)\n",
    "print(\"Shape of x_test:\", x_test.shape)\n",
    "print(\"Shape of y_test:\", y_test.shape)"
   ]
  },
  {
   "cell_type": "code",
   "execution_count": 30,
   "metadata": {
    "id": "JmMjiIodFc7F"
   },
   "outputs": [],
   "source": [
    "data_bal = np.array(class_data)\n",
    "data_bal2 = data_bal.reshape(1, 5)"
   ]
  },
  {
   "cell_type": "code",
   "execution_count": 31,
   "metadata": {
    "id": "nGLL_Kv_KVMs"
   },
   "outputs": [],
   "source": [
    "from tensorflow.keras.preprocessing.text import Tokenizer, text_to_word_sequence\n",
    "from tensorflow.keras.preprocessing.sequence import pad_sequences\n",
    "from tensorflow.keras.utils import to_categorical\n",
    "\n",
    "from keras.layers import Embedding\n",
    "from keras.layers import Dense, Input, Flatten\n",
    "from keras.layers import Conv1D, MaxPooling1D, Embedding, Dropout, LSTM, GRU, Bidirectional, TimeDistributed\n",
    "from keras.models import Model\n",
    "\n",
    "from keras import backend as K\n",
    "from tensorflow.keras.layers import Layer, InputSpec\n",
    "from keras import initializers"
   ]
  },
  {
   "cell_type": "code",
   "execution_count": 148,
   "metadata": {
    "id": "c8YaiptcH2Od"
   },
   "outputs": [],
   "source": [
    "class ChannelAttention(tf.keras.layers.Layer):\n",
    "    def __init__(self, filters, ratio, **kwargs):\n",
    "        super(ChannelAttention, self).__init__(**kwargs)\n",
    "        self.filters = filters\n",
    "        self.ratio = ratio\n",
    "\n",
    "    def build(self, input_shape):\n",
    "        self.shared_layer_one = tf.keras.layers.Dense(self.filters // self.ratio,\n",
    "                                                      activation='relu', kernel_initializer='he_normal',\n",
    "                                                      use_bias=True, bias_initializer='zeros')\n",
    "        self.shared_layer_two = tf.keras.layers.Dense(self.filters,\n",
    "                                                      kernel_initializer='he_normal',\n",
    "                                                      use_bias=True, bias_initializer='zeros')\n",
    "\n",
    "    def call(self, inputs):\n",
    "        # AvgPool\n",
    "        avg_pool = tf.keras.layers.GlobalAveragePooling1D()(inputs)\n",
    "        avg_pool = self.shared_layer_one(avg_pool)\n",
    "        avg_pool = self.shared_layer_two(avg_pool)\n",
    "\n",
    "        # MaxPool\n",
    "        max_pool = tf.keras.layers.GlobalMaxPooling1D()(inputs)\n",
    "        max_pool = self.shared_layer_one(max_pool)\n",
    "        max_pool = self.shared_layer_two(max_pool)\n",
    "\n",
    "        # Attention combination and activation\n",
    "        attention = tf.keras.layers.Add()([avg_pool, max_pool])\n",
    "        attention = tf.keras.layers.Activation('sigmoid')(attention)\n",
    "\n",
    "        # Store the attention weights\n",
    "        self.attention_weights = attention\n",
    "\n",
    "        # Reshape attention to match the input dimensions\n",
    "        attention = tf.keras.layers.Reshape((1, -1))(attention)  # Adjust this based on input dimensions\n",
    "        attention = tf.keras.layers.Multiply()([inputs, attention])\n",
    "\n",
    "        return attention\n",
    "\n",
    "    def compute_output_shape(self, input_shape):\n",
    "        # Output shape should be the same as the input shape\n",
    "        return input_shape\n"
   ]
  },
  {
   "cell_type": "code",
   "execution_count": 214,
   "metadata": {
    "id": "jewhRABxHdGJ"
   },
   "outputs": [],
   "source": [
    "class SegmentAttention(tf.keras.layers.Layer):\n",
    "    def __init__(self, units, **kwargs):\n",
    "        super(SegmentAttention, self).__init__(**kwargs)\n",
    "        self.units = units\n",
    "\n",
    "    def build(self, input_shape):\n",
    "        self.W = self.add_weight(name=\"W\", shape=(input_shape[-1], self.units), initializer=\"random_normal\")\n",
    "        self.b = self.add_weight(name=\"b\", shape=(self.units,), initializer=\"zeros\")\n",
    "        self.u = self.add_weight(name=\"u\", shape=(self.units,), initializer=\"random_normal\")\n",
    "\n",
    "    def call(self, inputs):\n",
    "        v = tf.tanh(tf.tensordot(inputs, self.W, axes=1) + self.b)\n",
    "        vu = tf.tensordot(v, self.u, axes=1)\n",
    "        alphas = tf.nn.softmax(vu)\n",
    "        output = tf.reduce_sum(inputs * tf.expand_dims(alphas, -1), axis=1)\n",
    "        return output, alphas  # Return both output and alphas\n",
    "\n",
    "    def compute_output_shape(self, input_shape):\n",
    "        return (input_shape[0], input_shape[-1]), (input_shape[0], input_shape[1])"
   ]
  },
  {
   "cell_type": "code",
   "execution_count": 215,
   "metadata": {
    "id": "VWdOE3TiHlYb"
   },
   "outputs": [],
   "source": [
    "def build_han_model(segment_length):\n",
    "    input_layer = tf.keras.layers.Input(shape=(None, segment_length, 1))\n",
    "\n",
    "    conv_segments = tf.keras.layers.TimeDistributed(\n",
    "        tf.keras.layers.Conv1D(filters=32, kernel_size=21, strides=1, padding='same', activation='relu')\n",
    "    )(input_layer)\n",
    "    attention_segments = tf.keras.layers.TimeDistributed(ChannelAttention(32, 8))(conv_segments)\n",
    "    pooled_segments = tf.keras.layers.TimeDistributed(\n",
    "        tf.keras.layers.MaxPool1D(pool_size=3, strides=2, padding='same')\n",
    "    )(attention_segments)\n",
    "\n",
    "    lstm_segments = tf.keras.layers.TimeDistributed(\n",
    "        tf.keras.layers.LSTM(64, return_sequences=True)\n",
    "    )(pooled_segments)\n",
    "    segment_attention = tf.keras.layers.TimeDistributed(SegmentAttention(64))(lstm_segments)\n",
    "\n",
    "    # Get output and alphas from the segment attention layer\n",
    "    sequence_attention, segment_alphas = segment_attention  # Unpack the output and alphas\n",
    "    sequence_lstm = tf.keras.layers.LSTM(64, return_sequences=True)(sequence_attention)\n",
    "    sequence_attention, final_alphas = SegmentAttention(64)(sequence_lstm)\n",
    "\n",
    "    dense_layer = tf.keras.layers.Dense(128, activation='relu')(sequence_attention)\n",
    "    dropout_layer = tf.keras.layers.Dropout(rate=0.3)(dense_layer)\n",
    "    output_layer = tf.keras.layers.Dense(5, activation='softmax')(dropout_layer)\n",
    "\n",
    "    model = tf.keras.models.Model(inputs=input_layer, outputs=output_layer)\n",
    "    return model, final_alphas, segment_alphas  # Return the model and the final attention weights"
   ]
  },
  {
   "cell_type": "code",
   "execution_count": 216,
   "metadata": {},
   "outputs": [],
   "source": [
    "class CustomModel(tf.keras.Model):\n",
    "    def __init__(self, segment_length):\n",
    "        super(CustomModel, self).__init__()\n",
    "        self.model, self.final_alphas, self.segment_alphas = build_han_model(segment_length)\n",
    "\n",
    "    def call(self, inputs):\n",
    "        outputs = self.model(inputs)\n",
    "        return outputs\n",
    "\n",
    "    def get_attention_weights(self, inputs):\n",
    "        # Create a new model to extract final attention weights\n",
    "        final_attention_model = tf.keras.models.Model(inputs=self.model.input, outputs=self.final_alphas)\n",
    "        final_alphas = final_attention_model(inputs)  # Get final attention weights\n",
    "\n",
    "        # Create a new model to extract segment attention weights\n",
    "        segment_attention_model = tf.keras.models.Model(inputs=self.model.input, outputs=self.segment_alphas)\n",
    "        segment_alphas = segment_attention_model(inputs)  # Get segment attention weights\n",
    "\n",
    "        return final_alphas, segment_alphas  # Return both sets of attention weights"
   ]
  },
  {
   "cell_type": "code",
   "execution_count": 217,
   "metadata": {
    "colab": {
     "base_uri": "https://localhost:8080/"
    },
    "id": "obtxjuYHI6mI",
    "outputId": "98332032-de8c-4d8f-deed-a0a306f5f01d"
   },
   "outputs": [
    {
     "name": "stdout",
     "output_type": "stream",
     "text": [
      "Shape of X_train reshaped (93410, 10, 30, 1)\n",
      "Shape of x_test (21861, 300)\n",
      "Shape of x_test reshaped (21861, 10, 30, 1)\n"
     ]
    }
   ],
   "source": [
    "# Define your segment length\n",
    "segment_length = 30  # Choose a segment length that divides the sequence length evenly\n",
    "\n",
    "# Calculate the number of segments\n",
    "# MIT-BIH has 48 30-minute recordings -  which are split into 93472 segments, each with 300 time points\n",
    "sequence_length = X_train.shape[1]\n",
    "num_segments = sequence_length // segment_length\n",
    "\n",
    "# Reshape input data to (batch_size, num_segments, segment_length, 1)\n",
    "X_train_reshaped = X_train.reshape((X_train.shape[0], num_segments, segment_length, 1))\n",
    "print(\"Shape of X_train reshaped\", X_train_reshaped.shape)\n",
    "\n",
    "print(\"Shape of x_test\", x_test.shape)\n",
    "sequence_length_test = x_test.shape[1]\n",
    "num_segments_test = sequence_length_test // segment_length\n",
    "x_test_reshaped = x_test.reshape(-1, 10, 30, 1)\n",
    "print(\"Shape of x_test reshaped\", x_test_reshaped.shape)"
   ]
  },
  {
   "cell_type": "code",
   "execution_count": 218,
   "metadata": {},
   "outputs": [],
   "source": [
    "custom_model = CustomModel(segment_length)"
   ]
  },
  {
   "cell_type": "code",
   "execution_count": 219,
   "metadata": {},
   "outputs": [
    {
     "name": "stdout",
     "output_type": "stream",
     "text": [
      "Model: \"custom_model_7\"\n",
      "_________________________________________________________________\n",
      " Layer (type)                Output Shape              Param #   \n",
      "=================================================================\n",
      " model_36 (Functional)       (None, 5)                 76265     \n",
      "                                                                 \n",
      "=================================================================\n",
      "Total params: 76,265\n",
      "Trainable params: 76,265\n",
      "Non-trainable params: 0\n",
      "_________________________________________________________________\n"
     ]
    }
   ],
   "source": [
    "# Create a dummy input\n",
    "dummy_input = np.random.rand(1, 10, 30, 1).astype(np.float32)  # Adjust the shape based on your input\n",
    "\n",
    "# Call the model to build it\n",
    "custom_model(dummy_input)\n",
    "\n",
    "# Now you can call summary()\n",
    "custom_model.summary()"
   ]
  },
  {
   "cell_type": "code",
   "execution_count": 220,
   "metadata": {},
   "outputs": [
    {
     "name": "stdout",
     "output_type": "stream",
     "text": [
      "Epoch 1/2\n",
      "2336/2336 [==============================] - 205s 86ms/step - loss: 0.5285 - accuracy: 0.8166 - val_loss: 0.2849 - val_accuracy: 0.9121\n",
      "Epoch 2/2\n",
      "2336/2336 [==============================] - 197s 85ms/step - loss: 0.2258 - accuracy: 0.9303 - val_loss: 0.1885 - val_accuracy: 0.9377\n"
     ]
    }
   ],
   "source": [
    "# Compile the model\n",
    "custom_model.compile(optimizer='adam', \n",
    "                     loss='sparse_categorical_crossentropy', \n",
    "                     metrics=['accuracy'])\n",
    "\n",
    "# Fit the model\n",
    "history = custom_model.fit(X_train_reshaped, \n",
    "                            Y_train, \n",
    "                            epochs=2,  # Set the number of epochs\n",
    "                            batch_size=64,  # Set your batch size\n",
    "                            validation_split=0.2)  # Use a portion for validation"
   ]
  },
  {
   "cell_type": "code",
   "execution_count": 223,
   "metadata": {},
   "outputs": [
    {
     "name": "stdout",
     "output_type": "stream",
     "text": [
      "tf.Tensor(\n",
      "[[2.4263615e-02 1.2038366e-02 9.7073382e-03 1.3541089e-02 7.6327994e-02\n",
      "  2.4592872e-01 4.3826276e-01 1.3610037e-01 2.9627120e-02 1.4202571e-02]\n",
      " [1.9611611e-03 5.0428353e-04 2.0301744e-04 2.0941279e-03 1.2270118e-02\n",
      "  2.8823741e-02 8.2816112e-01 1.2337170e-01 2.2832539e-03 3.2749938e-04]\n",
      " [5.1300775e-02 2.4067061e-02 2.3914000e-02 1.4223415e-01 3.3493870e-01\n",
      "  2.2723922e-01 1.5639453e-01 2.3656784e-02 9.4378842e-03 6.8169199e-03]], shape=(3, 10), dtype=float32)\n",
      "tf.Tensor(\n",
      "[[[2.04577316e-02 8.55445191e-02 1.85560435e-01 1.92668915e-01\n",
      "   1.51672676e-01 9.05843079e-02 6.77786693e-02 5.38808256e-02\n",
      "   4.48108017e-02 3.91662717e-02 3.00128609e-02 1.87917259e-02\n",
      "   1.07684294e-02 5.62843215e-03 2.67344969e-03]\n",
      "  [2.88958419e-02 9.01063383e-02 1.82528228e-01 1.88851163e-01\n",
      "   1.46778956e-01 8.82251933e-02 6.51890486e-02 5.16597815e-02\n",
      "   4.37981784e-02 4.01687436e-02 3.10526825e-02 2.00255141e-02\n",
      "   1.21869808e-02 6.97827339e-03 3.55504849e-03]\n",
      "  [2.10600812e-02 1.07308991e-01 2.44940087e-01 2.52962887e-01\n",
      "   1.71849564e-01 8.76076072e-02 4.93479781e-02 2.75819525e-02\n",
      "   1.70027688e-02 1.01318667e-02 5.14622172e-03 2.39410810e-03\n",
      "   1.33135892e-03 8.13954801e-04 5.20634756e-04]\n",
      "  [1.22507472e-05 4.38463067e-05 1.89918978e-03 3.77708524e-02\n",
      "   8.16358253e-02 9.09605473e-02 8.17991719e-02 6.34570196e-02\n",
      "   5.66308126e-02 7.57930800e-02 1.04332842e-01 1.15510106e-01\n",
      "   1.11080855e-01 9.78794172e-02 8.11941922e-02]\n",
      "  [7.05627911e-03 6.39395490e-02 1.46119043e-01 1.62841231e-01\n",
      "   1.46385014e-01 9.89410058e-02 8.11662450e-02 6.83299005e-02\n",
      "   6.08505383e-02 5.89431673e-02 4.63033989e-02 2.94089448e-02\n",
      "   1.70393456e-02 9.08089988e-03 3.59548582e-03]\n",
      "  [5.83141996e-03 5.67373224e-02 1.29708275e-01 1.46493435e-01\n",
      "   1.37862176e-01 1.00062609e-01 8.77590701e-02 7.80159160e-02\n",
      "   7.06510916e-02 6.76586255e-02 5.29891290e-02 3.33968699e-02\n",
      "   1.91226956e-02 9.90095641e-03 3.81034659e-03]\n",
      "  [6.20288635e-03 6.39102161e-02 1.41803980e-01 1.59491614e-01\n",
      "   1.47054002e-01 1.04086034e-01 8.81944597e-02 7.53933415e-02\n",
      "   6.49963766e-02 5.75502217e-02 4.28779684e-02 2.55005192e-02\n",
      "   1.36289587e-02 6.73306501e-03 2.57644407e-03]\n",
      "  [1.72421578e-02 1.13585055e-01 2.33234882e-01 2.27272928e-01\n",
      "   1.55696437e-01 8.16107094e-02 5.36846407e-02 3.70899960e-02\n",
      "   2.70859636e-02 2.12819744e-02 1.48861967e-02 8.71033780e-03\n",
      "   4.86753136e-03 2.55089276e-03 1.20032346e-03]\n",
      "  [7.74681987e-03 4.05690521e-02 1.03177935e-01 1.20314695e-01\n",
      "   1.16370343e-01 8.99091512e-02 8.32507238e-02 8.14272240e-02\n",
      "   8.37961733e-02 9.03779790e-02 7.69757032e-02 5.20153828e-02\n",
      "   3.12844403e-02 1.63124930e-02 6.47196826e-03]\n",
      "  [8.02649371e-03 7.04770908e-02 1.62408412e-01 1.78690061e-01\n",
      "   1.55603245e-01 1.00851789e-01 7.94316232e-02 6.41339347e-02\n",
      "   5.35384566e-02 4.75503653e-02 3.59129421e-02 2.21234746e-02\n",
      "   1.24028642e-02 6.30903011e-03 2.54023424e-03]]\n",
      "\n",
      " [[3.63117516e-01 2.11096689e-01 1.21224545e-01 7.11559951e-02\n",
      "   4.57471907e-02 3.11330631e-02 2.37502214e-02 1.97067019e-02\n",
      "   1.75558254e-02 1.65971182e-02 1.61365010e-02 1.56237390e-02\n",
      "   1.52906608e-02 1.53339887e-02 1.65302623e-02]\n",
      "  [3.76876950e-01 2.11096540e-01 1.16131723e-01 6.55224919e-02\n",
      "   4.05220576e-02 2.71939859e-02 2.06637904e-02 1.73660740e-02\n",
      "   1.59593821e-02 1.57436710e-02 1.61816292e-02 1.68153942e-02\n",
      "   1.78041812e-02 1.93916485e-02 2.27304194e-02]\n",
      "  [3.77789736e-01 2.10955754e-01 1.14720121e-01 6.41172826e-02\n",
      "   3.93444113e-02 2.65007429e-02 2.02511549e-02 1.70865618e-02\n",
      "   1.56837422e-02 1.53499264e-02 1.57981087e-02 1.67236067e-02\n",
      "   1.82976183e-02 2.10381281e-02 2.63430662e-02]\n",
      "  [3.56937198e-05 5.73443249e-05 4.39604803e-04 1.27553362e-02\n",
      "   8.92454088e-02 1.66589573e-01 1.84764519e-01 1.44689992e-01\n",
      "   8.98681208e-02 6.72038868e-02 5.51955402e-02 4.90288362e-02\n",
      "   4.80191968e-02 4.79708612e-02 4.41360958e-02]\n",
      "  [2.56604254e-01 1.90411896e-01 1.44085005e-01 1.05022006e-01\n",
      "   7.48436376e-02 5.04311174e-02 3.73032317e-02 2.94754133e-02\n",
      "   2.46756952e-02 2.16451325e-02 1.85431298e-02 1.52321141e-02\n",
      "   1.24448119e-02 1.02588953e-02 9.02360119e-03]\n",
      "  [2.96687603e-01 2.06774727e-01 1.43691048e-01 9.65862498e-02\n",
      "   6.45179152e-02 4.19283397e-02 2.99999490e-02 2.28435025e-02\n",
      "   1.83617752e-02 1.54963322e-02 1.37136066e-02 1.23950671e-02\n",
      "   1.17444713e-02 1.18930805e-02 1.33662429e-02]\n",
      "  [3.31394345e-01 1.67298064e-01 8.23441595e-02 4.15609106e-02\n",
      "   2.35736798e-02 1.62618291e-02 1.35897091e-02 1.33461617e-02\n",
      "   1.48707265e-02 1.82046406e-02 2.39616446e-02 3.31222042e-02\n",
      "   4.72378321e-02 6.93680868e-02 1.03866018e-01]\n",
      "  [3.74426931e-01 2.25485846e-01 1.34770706e-01 8.00310001e-02\n",
      "   4.84555103e-02 3.10247596e-02 2.13139895e-02 1.58042125e-02\n",
      "   1.26063591e-02 1.06900716e-02 9.55167040e-03 8.80476646e-03\n",
      "   8.48096143e-03 8.70938227e-03 9.84384120e-03]\n",
      "  [3.93037349e-01 2.11936876e-01 1.10293642e-01 5.84524013e-02\n",
      "   3.45172882e-02 2.35564187e-02 1.87516082e-02 1.67484116e-02\n",
      "   1.62269864e-02 1.65597834e-02 1.73805151e-02 1.82348900e-02\n",
      "   1.92688107e-02 2.08294466e-02 2.42055487e-02]\n",
      "  [3.87124479e-01 2.12121725e-01 1.13085136e-01 6.17220290e-02\n",
      "   3.77707370e-02 2.60193422e-02 2.05584336e-02 1.79607011e-02\n",
      "   1.69149041e-02 1.67759284e-02 1.70502532e-02 1.72165744e-02\n",
      "   1.74686760e-02 1.80907659e-02 2.01203637e-02]]\n",
      "\n",
      " [[1.97336730e-02 8.06341767e-02 1.76086754e-01 1.84013337e-01\n",
      "   1.47680417e-01 9.04560238e-02 6.93839937e-02 5.67032583e-02\n",
      "   4.88079041e-02 4.50638533e-02 3.54092121e-02 2.26582363e-02\n",
      "   1.31763583e-02 6.96700858e-03 3.22574819e-03]\n",
      "  [2.08865982e-02 8.78447592e-02 1.91004559e-01 1.98494017e-01\n",
      "   1.55558333e-01 9.25121531e-02 6.80908859e-02 5.25311865e-02\n",
      "   4.19296101e-02 3.44418176e-02 2.56664027e-02 1.55707235e-02\n",
      "   8.71886685e-03 4.53469902e-03 2.21539359e-03]\n",
      "  [2.82161497e-02 7.41045401e-02 1.42945975e-01 1.50118098e-01\n",
      "   1.29268438e-01 9.01960284e-02 7.59516656e-02 6.77305087e-02\n",
      "   6.26215488e-02 6.00733049e-02 4.96394075e-02 3.33074555e-02\n",
      "   2.00242531e-02 1.06702745e-02 5.13243861e-03]\n",
      "  [3.02096687e-05 1.17401614e-05 3.13199052e-05 6.77561795e-04\n",
      "   1.10161630e-02 3.75896245e-02 6.85539544e-02 1.03051826e-01\n",
      "   1.14210673e-01 1.15535691e-01 1.12406179e-01 9.45412368e-02\n",
      "   1.11160457e-01 1.18237361e-01 1.12946086e-01]\n",
      "  [1.77792516e-02 8.89628530e-02 1.94744155e-01 2.00446382e-01\n",
      "   1.54559478e-01 9.17162076e-02 6.74940497e-02 5.19602746e-02\n",
      "   4.15850021e-02 3.46414261e-02 2.54649110e-02 1.54374931e-02\n",
      "   8.67455360e-03 4.45319759e-03 2.08079419e-03]\n",
      "  [4.67108339e-02 1.19578563e-01 2.10436240e-01 2.03649834e-01\n",
      "   1.45362392e-01 8.28656107e-02 5.60860001e-02 3.99088375e-02\n",
      "   2.97650211e-02 2.32705921e-02 1.70420762e-02 1.11033954e-02\n",
      "   7.09258812e-03 4.41100728e-03 2.71689682e-03]\n",
      "  [1.10881597e-01 1.42127782e-01 1.74135700e-01 1.58227086e-01\n",
      "   1.20647326e-01 7.68608004e-02 5.54438010e-02 4.19363938e-02\n",
      "   3.29499952e-02 2.65349988e-02 2.09536348e-02 1.52340513e-02\n",
      "   1.08628664e-02 7.64381234e-03 5.56008611e-03]\n",
      "  [5.21993861e-02 7.22728297e-02 1.05506420e-01 1.19085439e-01\n",
      "   1.14381045e-01 9.31285769e-02 8.21242034e-02 7.49129429e-02\n",
      "   7.05974773e-02 6.90068454e-02 5.78436777e-02 4.02076393e-02\n",
      "   2.55805012e-02 1.50100784e-02 8.14290345e-03]\n",
      "  [3.87453698e-02 1.13214888e-01 2.09751010e-01 2.04460800e-01\n",
      "   1.46400869e-01 8.31516236e-02 5.74344918e-02 4.20142934e-02\n",
      "   3.22427340e-02 2.60288976e-02 1.92175433e-02 1.23796482e-02\n",
      "   7.70547800e-03 4.59223147e-03 2.66010105e-03]\n",
      "  [6.06136210e-02 1.05426244e-01 1.61743477e-01 1.59474969e-01\n",
      "   1.28831044e-01 8.44974443e-02 6.51155487e-02 5.33604510e-02\n",
      "   4.63229455e-02 4.29530069e-02 3.50814648e-02 2.45362595e-02\n",
      "   1.61624867e-02 1.00279981e-02 5.85304061e-03]]], shape=(3, 10, 15), dtype=float32)\n"
     ]
    }
   ],
   "source": [
    "# Get attention weights for the first three samples\n",
    "sample_inputs = X_train_reshaped[0:3]  # Shape will be (3, 10, 30, 1)\n",
    "\n",
    "final_attention_weights, segment_attention_weights = custom_model.get_attention_weights(sample_inputs)\n",
    "\n",
    "print(final_attention_weights)\n",
    "print(segment_attention_weights)"
   ]
  },
  {
   "cell_type": "code",
   "execution_count": 212,
   "metadata": {},
   "outputs": [
    {
     "name": "stdout",
     "output_type": "stream",
     "text": [
      "Attention Weights:\n",
      "tf.Tensor(\n",
      "[[1.4539370e-02 1.4156474e-02 4.4387426e-02 5.9560938e-03 6.5627219e-03\n",
      "  8.9320038e-03 2.0977074e-02 1.4044131e-01 2.6425868e-01 4.7978884e-01]\n",
      " [8.5823186e-04 2.0421550e-04 1.5253969e-04 3.9644499e-04 5.0621870e-04\n",
      "  2.6951690e-04 5.1849992e-03 6.6713744e-01 2.7467737e-01 5.0613064e-02]\n",
      " [5.0162105e-04 3.6659816e-04 1.7738099e-03 9.8822963e-01 4.6802843e-03\n",
      "  1.6208524e-03 7.2383066e-04 1.7392318e-04 2.1517648e-04 1.7142486e-03]], shape=(3, 10), dtype=float32)\n"
     ]
    }
   ],
   "source": [
    "# Get attention weights for the first three samples\n",
    "sample_inputs = X_train_reshaped[0:3]  # Shape will be (3, 10, 30, 1)\n",
    "\n",
    "# Get attention weights\n",
    "attention_weights = custom_model.get_attention_weights(sample_inputs)\n",
    "\n",
    "# Print the attention weights\n",
    "print(\"Attention Weights:\")\n",
    "print(attention_weights)"
   ]
  },
  {
   "cell_type": "code",
   "execution_count": 260,
   "metadata": {},
   "outputs": [
    {
     "data": {
      "image/png": "[encoded data removed]",
      "text/plain": [
       "<Figure size 1500x500 with 1 Axes>"
      ]
     },
     "metadata": {},
     "output_type": "display_data"
    }
   ],
   "source": [
    "# Flatten ECG data for plotting\n",
    "ecg_data = sample_inputs.reshape(sample_inputs.shape[0], -1)  # Shape (3, 300) for 10 segments of 30 timesteps each\n",
    "\n",
    "plt.figure(figsize=(15, 5))\n",
    "\n",
    "attention_y_offset = 1\n",
    "i = 0  # Index for the first sample\n",
    "\n",
    "# Plot ECG data\n",
    "plt.plot(ecg_data[i], label='ECG Data', color='blue', alpha=0.6)\n",
    "\n",
    "# Overlay attention weights\n",
    "scaled_attention = final_attention_weights[i].numpy().flatten()\n",
    "\n",
    "attention_scale_factor = (max(ecg_data[i]) - min(ecg_data[i])) * 1.3  \n",
    "scaled_attention *= attention_scale_factor\n",
    "\n",
    "attention_offset = 93  \n",
    "attention_x_axis = np.arange(len(scaled_attention)) + attention_offset  \n",
    "plt.ylim(min(ecg_data[i]), max(ecg_data[i]))\n",
    "\n",
    "\n",
    "plt.plot(attention_x_axis, scaled_attention + min(ecg_data[i]) + attention_y_offset, label='Attention Weights', color='red', alpha=0.8)\n",
    "\n",
    "\n",
    "plt.title('ECG Sequence and Attention Weights', fontsize=28)  \n",
    "plt.xlabel('Time', fontsize=24)  \n",
    "plt.ylabel('Amplitude', fontsize=24)  \n",
    "plt.legend(fontsize=20)  \n",
    "plt.tight_layout()\n",
    "plt.show()\n"
   ]
  },
  {
   "cell_type": "code",
   "execution_count": null,
   "metadata": {
    "colab": {
     "base_uri": "https://localhost:8080/"
    },
    "id": "lhwlXfsZeITY",
    "outputId": "036eedca-1c6a-435d-a5cc-ee40a06d69bb"
   },
   "outputs": [
    {
     "name": "stdout",
     "output_type": "stream",
     "text": [
      "Training Accuracy: 97.40, Test Accuracy: 97.88\n",
      "Training Loss: 7.85, Test Loss: 7.85\n"
     ]
    }
   ],
   "source": [
    "# evaluate the model\n",
    "train_loss, train_acc = model.evaluate(X_train_reshaped, Y_train, verbose=0)\n",
    "test_loss, test_acc = model.evaluate(x_test_reshaped, y_test, verbose=0)\n",
    "print('Training Accuracy: %.2f, Test Accuracy: %.2f' % (train_acc*100, test_acc*100))\n",
    "print('Training Loss: %.2f, Test Loss: %.2f' % (train_loss*100, test_loss*100))"
   ]
  }
 ],
 "metadata": {
  "colab": {
   "provenance": []
  },
  "kernelspec": {
   "display_name": "Python 3 (ipykernel)",
   "language": "python",
   "name": "python3"
  },
  "language_info": {
   "codemirror_mode": {
    "name": "ipython",
    "version": 3
   },
   "file_extension": ".py",
   "mimetype": "text/x-python",
   "name": "python",
   "nbconvert_exporter": "python",
   "pygments_lexer": "ipython3",
   "version": "3.10.9"
  },
  "widgets": {
   "application/vnd.jupyter.widget-state+json": {
    "state": {},
    "version_major": 2,
    "version_minor": 0
   }
  }
 },
 "nbformat": 4,
 "nbformat_minor": 1
}
